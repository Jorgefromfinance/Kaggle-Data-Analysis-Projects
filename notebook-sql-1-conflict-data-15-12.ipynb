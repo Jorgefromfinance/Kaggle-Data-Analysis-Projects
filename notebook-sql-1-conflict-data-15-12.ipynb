{
 "cells": [
  {
   "cell_type": "code",
   "execution_count": 1,
   "id": "77ecda40",
   "metadata": {
    "_cell_guid": "b1076dfc-b9ad-4769-8c92-a6c4dae69d19",
    "_uuid": "8f2839f25d086af736a60e9eeb907d3b93b6e0e5",
    "execution": {
     "iopub.execute_input": "2024-12-15T15:04:48.086180Z",
     "iopub.status.busy": "2024-12-15T15:04:48.085656Z",
     "iopub.status.idle": "2024-12-15T15:04:48.949945Z",
     "shell.execute_reply": "2024-12-15T15:04:48.948595Z"
    },
    "papermill": {
     "duration": 0.872762,
     "end_time": "2024-12-15T15:04:48.952539",
     "exception": false,
     "start_time": "2024-12-15T15:04:48.079777",
     "status": "completed"
    },
    "tags": []
   },
   "outputs": [
    {
     "name": "stdout",
     "output_type": "stream",
     "text": [
      "/kaggle/input/conflict-data/deaths-in-armed news v2.csv\n"
     ]
    }
   ],
   "source": [
    "# This Python 3 environment comes with many helpful analytics libraries installed\n",
    "# It is defined by the kaggle/python Docker image: https://github.com/kaggle/docker-python\n",
    "# For example, here's several helpful packages to load\n",
    "\n",
    "import numpy as np # linear algebra\n",
    "import pandas as pd # data processing, CSV file I/O (e.g. pd.read_csv)\n",
    "import sqlite3\n",
    "\n",
    "# Input data files are available in the read-only \"../input/\" directory\n",
    "# For example, running this (by clicking run or pressing Shift+Enter) will list all files under the input directory\n",
    "\n",
    "import os\n",
    "for dirname, _, filenames in os.walk('/kaggle/input'):\n",
    "    for filename in filenames:\n",
    "        print(os.path.join(dirname, filename))\n",
    "\n",
    "# You can write up to 20GB to the current directory (/kaggle/working/) that gets preserved as output when you create a version using \"Save & Run All\" \n",
    "# You can also write temporary files to /kaggle/temp/, but they won't be saved outside of the current session"
   ]
  },
  {
   "cell_type": "code",
   "execution_count": 2,
   "id": "fcd23a15",
   "metadata": {
    "execution": {
     "iopub.execute_input": "2024-12-15T15:04:48.962392Z",
     "iopub.status.busy": "2024-12-15T15:04:48.961437Z",
     "iopub.status.idle": "2024-12-15T15:04:49.016877Z",
     "shell.execute_reply": "2024-12-15T15:04:49.015686Z"
    },
    "papermill": {
     "duration": 0.062184,
     "end_time": "2024-12-15T15:04:49.019155",
     "exception": false,
     "start_time": "2024-12-15T15:04:48.956971",
     "status": "completed"
    },
    "tags": []
   },
   "outputs": [
    {
     "name": "stdout",
     "output_type": "stream",
     "text": [
      "     Entity  Year  One-sided violence  Non-state  Intrastate  Extrasystemic  \\\n",
      "0    Africa  1989                3598       2507       34907              0   \n",
      "1    Africa  1990                6574       1373       64839              0   \n",
      "2    Africa  1991                5754       2707       25480              0   \n",
      "3    Africa  1992                4087       7460        6887              0   \n",
      "4    Africa  1993               11851      13985       15064              0   \n",
      "..      ...   ...                 ...        ...         ...            ...   \n",
      "205   World  2019                5536      20444       52173              0   \n",
      "206   World  2020                8880      22401       72509              0   \n",
      "207   World  2021               11935      23663      199568              0   \n",
      "208   World  2022               11941      21430      185007              0   \n",
      "209   World  2023               10275      20900       51662              0   \n",
      "\n",
      "     Interstate  \n",
      "0             0  \n",
      "1             0  \n",
      "2             0  \n",
      "3             0  \n",
      "4             0  \n",
      "..          ...  \n",
      "205         302  \n",
      "206         648  \n",
      "207         222  \n",
      "208       91929  \n",
      "209       70865  \n",
      "\n",
      "[210 rows x 7 columns]\n"
     ]
    }
   ],
   "source": [
    "#Import data\n",
    "df = pd.read_csv(\"/kaggle/input/conflict-data/deaths-in-armed news v2.csv\")\n",
    "#create db\n",
    "conn = sqlite3.connect(\"database_name.db\")\n",
    "cursor = conn.cursor()\n",
    "\n",
    "#Write the DataFrame to the SQL table\n",
    "conflict_db = \"Conflict_Data\"\n",
    "df.to_sql(conflict_db, conn, if_exists=\"replace\", index=False)\n",
    "#outputs\n",
    "query = f\"SELECT * FROM {conflict_db}\"\n",
    "result = pd.read_sql(query, conn)\n",
    "print(result)"
   ]
  },
  {
   "cell_type": "code",
   "execution_count": 3,
   "id": "653b72ed",
   "metadata": {
    "execution": {
     "iopub.execute_input": "2024-12-15T15:04:49.028061Z",
     "iopub.status.busy": "2024-12-15T15:04:49.027295Z",
     "iopub.status.idle": "2024-12-15T15:04:49.042772Z",
     "shell.execute_reply": "2024-12-15T15:04:49.041486Z"
    },
    "papermill": {
     "duration": 0.022281,
     "end_time": "2024-12-15T15:04:49.044928",
     "exception": false,
     "start_time": "2024-12-15T15:04:49.022647",
     "status": "completed"
    },
    "tags": []
   },
   "outputs": [
    {
     "data": {
      "text/plain": [
       "<sqlite3.Cursor at 0x7dd80fe9f3c0>"
      ]
     },
     "execution_count": 3,
     "metadata": {},
     "output_type": "execute_result"
    }
   ],
   "source": [
    "cursor.execute(\"\"\"\n",
    "ALTER TABLE Conflict_Data\n",
    "ADD COLUMN total_violence INTEGER;\n",
    "\"\"\")"
   ]
  },
  {
   "cell_type": "code",
   "execution_count": 4,
   "id": "5419c652",
   "metadata": {
    "execution": {
     "iopub.execute_input": "2024-12-15T15:04:49.053621Z",
     "iopub.status.busy": "2024-12-15T15:04:49.053241Z",
     "iopub.status.idle": "2024-12-15T15:04:49.066639Z",
     "shell.execute_reply": "2024-12-15T15:04:49.065525Z"
    },
    "papermill": {
     "duration": 0.020617,
     "end_time": "2024-12-15T15:04:49.069149",
     "exception": false,
     "start_time": "2024-12-15T15:04:49.048532",
     "status": "completed"
    },
    "tags": []
   },
   "outputs": [],
   "source": [
    "cursor.execute(\"\"\"\n",
    "UPDATE Conflict_Data\n",
    "SET total_violence = COALESCE(\"One-sided Violence\", 0) \n",
    "                     + COALESCE(\"Non-state\", 0)\n",
    "                     + COALESCE(\"Intrastate\", 0) \n",
    "                     + COALESCE(\"Extrasystemic\", 0) \n",
    "                     + COALESCE(\"Interstate\", 0);\n",
    "\"\"\")\n",
    "conn.commit()"
   ]
  },
  {
   "cell_type": "code",
   "execution_count": 5,
   "id": "daa10ebf",
   "metadata": {
    "execution": {
     "iopub.execute_input": "2024-12-15T15:04:49.078018Z",
     "iopub.status.busy": "2024-12-15T15:04:49.077648Z",
     "iopub.status.idle": "2024-12-15T15:04:49.085660Z",
     "shell.execute_reply": "2024-12-15T15:04:49.084287Z"
    },
    "papermill": {
     "duration": 0.014965,
     "end_time": "2024-12-15T15:04:49.087794",
     "exception": false,
     "start_time": "2024-12-15T15:04:49.072829",
     "status": "completed"
    },
    "tags": []
   },
   "outputs": [
    {
     "name": "stdout",
     "output_type": "stream",
     "text": [
      "   COUNT(*)\n",
      "0       210\n"
     ]
    }
   ],
   "source": [
    "#1. How many records are there in the table? \n",
    "query = f\"SELECT COUNT(*) FROM {conflict_db}\"\n",
    "result = pd.read_sql(query, conn)\n",
    "print(result)"
   ]
  },
  {
   "cell_type": "code",
   "execution_count": 6,
   "id": "ca252aa2",
   "metadata": {
    "execution": {
     "iopub.execute_input": "2024-12-15T15:04:49.096636Z",
     "iopub.status.busy": "2024-12-15T15:04:49.096265Z",
     "iopub.status.idle": "2024-12-15T15:04:49.104969Z",
     "shell.execute_reply": "2024-12-15T15:04:49.103715Z"
    },
    "papermill": {
     "duration": 0.01582,
     "end_time": "2024-12-15T15:04:49.107251",
     "exception": false,
     "start_time": "2024-12-15T15:04:49.091431",
     "status": "completed"
    },
    "tags": []
   },
   "outputs": [
    {
     "name": "stdout",
     "output_type": "stream",
     "text": [
      "             Entity\n",
      "0            Africa\n",
      "1          Americas\n",
      "2  Asia and Oceania\n",
      "3            Europe\n",
      "4       Middle East\n",
      "5             World\n"
     ]
    }
   ],
   "source": [
    "#2. What unique entity values are there?\n",
    "query = f\"SELECT DISTINCT Entity FROM {conflict_db}\"\n",
    "result = pd.read_sql(query, conn)\n",
    "print(result)"
   ]
  },
  {
   "cell_type": "code",
   "execution_count": 7,
   "id": "6241ec40",
   "metadata": {
    "execution": {
     "iopub.execute_input": "2024-12-15T15:04:49.116412Z",
     "iopub.status.busy": "2024-12-15T15:04:49.116031Z",
     "iopub.status.idle": "2024-12-15T15:04:49.124031Z",
     "shell.execute_reply": "2024-12-15T15:04:49.122835Z"
    },
    "papermill": {
     "duration": 0.015223,
     "end_time": "2024-12-15T15:04:49.126151",
     "exception": false,
     "start_time": "2024-12-15T15:04:49.110928",
     "status": "completed"
    },
    "tags": []
   },
   "outputs": [
    {
     "name": "stdout",
     "output_type": "stream",
     "text": [
      "   COUNT(*)\n",
      "0        35\n"
     ]
    }
   ],
   "source": [
    "#3. How many records are there where Entity is Africa?\n",
    "query = f\"SELECT COUNT(*) FROM {conflict_db} WHERE Entity = 'Africa'\"\n",
    "result = pd.read_sql(query, conn)\n",
    "print(result)"
   ]
  },
  {
   "cell_type": "code",
   "execution_count": 8,
   "id": "aa56277b",
   "metadata": {
    "execution": {
     "iopub.execute_input": "2024-12-15T15:04:49.136391Z",
     "iopub.status.busy": "2024-12-15T15:04:49.136015Z",
     "iopub.status.idle": "2024-12-15T15:04:49.144791Z",
     "shell.execute_reply": "2024-12-15T15:04:49.143526Z"
    },
    "papermill": {
     "duration": 0.016238,
     "end_time": "2024-12-15T15:04:49.147296",
     "exception": false,
     "start_time": "2024-12-15T15:04:49.131058",
     "status": "completed"
    },
    "tags": []
   },
   "outputs": [
    {
     "name": "stdout",
     "output_type": "stream",
     "text": [
      "             Entity  Incidents\n",
      "0            Africa         35\n",
      "1          Americas         35\n",
      "2  Asia and Oceania         35\n",
      "3            Europe         35\n",
      "4       Middle East         35\n",
      "5             World         35\n"
     ]
    }
   ],
   "source": [
    "#4. How many years are recorded per entity?\n",
    "query = f\"SELECT Entity, count(Year) as Incidents FROM {conflict_db} Group By Entity\"\n",
    "result = pd.read_sql(query, conn)\n",
    "print(result)"
   ]
  },
  {
   "cell_type": "code",
   "execution_count": 9,
   "id": "6f8bd145",
   "metadata": {
    "execution": {
     "iopub.execute_input": "2024-12-15T15:04:49.157096Z",
     "iopub.status.busy": "2024-12-15T15:04:49.156240Z",
     "iopub.status.idle": "2024-12-15T15:04:49.165589Z",
     "shell.execute_reply": "2024-12-15T15:04:49.164228Z"
    },
    "papermill": {
     "duration": 0.017059,
     "end_time": "2024-12-15T15:04:49.168240",
     "exception": false,
     "start_time": "2024-12-15T15:04:49.151181",
     "status": "completed"
    },
    "tags": []
   },
   "outputs": [
    {
     "name": "stdout",
     "output_type": "stream",
     "text": [
      "             Entity   Total\n",
      "0            Europe    4151\n",
      "1          Americas   15410\n",
      "2  Asia and Oceania   30474\n",
      "3       Middle East   38218\n",
      "4            Africa  117313\n",
      "5             World  205566\n"
     ]
    }
   ],
   "source": [
    "#5. What are the values for One-sided Violence per entities since the 2000's?\n",
    "query = f\"\"\"SELECT Entity, SUM(\"One-sided Violence\") as Total\n",
    "FROM Conflict_Data\n",
    "WHERE Year >= 2000\n",
    "GROUP BY Entity\n",
    "ORDER BY Total ASC;\"\"\"\n",
    "result = pd.read_sql(query, conn)\n",
    "print(result)"
   ]
  },
  {
   "cell_type": "code",
   "execution_count": 10,
   "id": "ff0bfc63",
   "metadata": {
    "execution": {
     "iopub.execute_input": "2024-12-15T15:04:49.177614Z",
     "iopub.status.busy": "2024-12-15T15:04:49.177235Z",
     "iopub.status.idle": "2024-12-15T15:04:49.185757Z",
     "shell.execute_reply": "2024-12-15T15:04:49.184509Z"
    },
    "papermill": {
     "duration": 0.01571,
     "end_time": "2024-12-15T15:04:49.187869",
     "exception": false,
     "start_time": "2024-12-15T15:04:49.172159",
     "status": "completed"
    },
    "tags": []
   },
   "outputs": [
    {
     "name": "stdout",
     "output_type": "stream",
     "text": [
      "             Entity    Total\n",
      "0          Americas   221763\n",
      "1            Europe   291534\n",
      "2  Asia and Oceania   578005\n",
      "3       Middle East   682805\n",
      "4            Africa  1991960\n",
      "5             World  3766067\n"
     ]
    }
   ],
   "source": [
    "#6. What about the total violence overall in this database?\n",
    "query = f\"\"\"SELECT Entity, SUM(\"total_violence\") as Total\n",
    "FROM Conflict_Data\n",
    "GROUP BY Entity\n",
    "ORDER BY Total ASC;\"\"\"\n",
    "result = pd.read_sql(query, conn)\n",
    "print(result)"
   ]
  },
  {
   "cell_type": "code",
   "execution_count": 11,
   "id": "14cf2a2e",
   "metadata": {
    "execution": {
     "iopub.execute_input": "2024-12-15T15:04:49.197179Z",
     "iopub.status.busy": "2024-12-15T15:04:49.196821Z",
     "iopub.status.idle": "2024-12-15T15:04:49.205936Z",
     "shell.execute_reply": "2024-12-15T15:04:49.204795Z"
    },
    "papermill": {
     "duration": 0.016862,
     "end_time": "2024-12-15T15:04:49.208644",
     "exception": false,
     "start_time": "2024-12-15T15:04:49.191782",
     "status": "completed"
    },
    "tags": []
   },
   "outputs": [
    {
     "name": "stdout",
     "output_type": "stream",
     "text": [
      "             Entity  Year  Max_Incidents\n",
      "0          Americas  2021          20088\n",
      "1  Asia and Oceania  2021          39461\n",
      "2            Europe  2022          93190\n",
      "3       Middle East  2014         100153\n",
      "4            Africa  1994         791652\n",
      "5             World  1994         823473\n"
     ]
    }
   ],
   "source": [
    "#7. What was the most violent year for each region?\n",
    "query = f\"\"\"SELECT Entity, Year, MAX(\"total_violence\") as Max_Incidents\n",
    "FROM Conflict_Data\n",
    "Group By Entity\n",
    "ORDER BY  Max_Incidents ASC;\"\"\"\n",
    "result = pd.read_sql(query, conn)\n",
    "print(result)"
   ]
  },
  {
   "cell_type": "code",
   "execution_count": 12,
   "id": "9acdaeff",
   "metadata": {
    "execution": {
     "iopub.execute_input": "2024-12-15T15:04:49.218506Z",
     "iopub.status.busy": "2024-12-15T15:04:49.218118Z",
     "iopub.status.idle": "2024-12-15T15:04:49.227893Z",
     "shell.execute_reply": "2024-12-15T15:04:49.226843Z"
    },
    "papermill": {
     "duration": 0.01739,
     "end_time": "2024-12-15T15:04:49.230193",
     "exception": false,
     "start_time": "2024-12-15T15:04:49.212803",
     "status": "completed"
    },
    "tags": []
   },
   "outputs": [
    {
     "name": "stdout",
     "output_type": "stream",
     "text": [
      "     Entity  Year  One-sided violence  Non-state  Intrastate  Extrasystemic  \\\n",
      "0  Americas  2021                 283      19692         113              0   \n",
      "\n",
      "   Interstate  total_violence  \n",
      "0           0           20088  \n"
     ]
    }
   ],
   "source": [
    "#7. What drives violence in the Americas in 2021?\n",
    "query = f\"\"\"SELECT *\n",
    "FROM Conflict_Data\n",
    "WHERE Entity = 'Americas' AND Year = 2021\n",
    "Group By Entity;\"\"\"\n",
    "result = pd.read_sql(query, conn)\n",
    "print(result)"
   ]
  }
 ],
 "metadata": {
  "kaggle": {
   "accelerator": "none",
   "dataSources": [
    {
     "datasetId": 6229849,
     "sourceId": 10100661,
     "sourceType": "datasetVersion"
    }
   ],
   "dockerImageVersionId": 30804,
   "isGpuEnabled": false,
   "isInternetEnabled": false,
   "language": "python",
   "sourceType": "notebook"
  },
  "kernelspec": {
   "display_name": "Python 3",
   "language": "python",
   "name": "python3"
  },
  "language_info": {
   "codemirror_mode": {
    "name": "ipython",
    "version": 3
   },
   "file_extension": ".py",
   "mimetype": "text/x-python",
   "name": "python",
   "nbconvert_exporter": "python",
   "pygments_lexer": "ipython3",
   "version": "3.10.14"
  },
  "papermill": {
   "default_parameters": {},
   "duration": 4.492229,
   "end_time": "2024-12-15T15:04:49.755248",
   "environment_variables": {},
   "exception": null,
   "input_path": "__notebook__.ipynb",
   "output_path": "__notebook__.ipynb",
   "parameters": {},
   "start_time": "2024-12-15T15:04:45.263019",
   "version": "2.6.0"
  }
 },
 "nbformat": 4,
 "nbformat_minor": 5
}
