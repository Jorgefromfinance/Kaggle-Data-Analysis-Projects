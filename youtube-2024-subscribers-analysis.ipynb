{
 "cells": [
  {
   "cell_type": "markdown",
   "id": "c85d4756",
   "metadata": {
    "execution": {
     "iopub.execute_input": "2024-12-17T13:09:55.831962Z",
     "iopub.status.busy": "2024-12-17T13:09:55.831582Z",
     "iopub.status.idle": "2024-12-17T13:09:55.836852Z",
     "shell.execute_reply": "2024-12-17T13:09:55.835785Z",
     "shell.execute_reply.started": "2024-12-17T13:09:55.831930Z"
    },
    "papermill": {
     "duration": 0.006873,
     "end_time": "2024-12-17T15:12:18.675044",
     "exception": false,
     "start_time": "2024-12-17T15:12:18.668171",
     "status": "completed"
    },
    "tags": []
   },
   "source": [
    "## Project Introduction"
   ]
  },
  {
   "cell_type": "markdown",
   "id": "55a671fe",
   "metadata": {
    "papermill": {
     "duration": 0.005765,
     "end_time": "2024-12-17T15:12:18.687071",
     "exception": false,
     "start_time": "2024-12-17T15:12:18.681306",
     "status": "completed"
    },
    "tags": []
   },
   "source": [
    "Present project takes subscribers data in 2024 and aims to answer general questions based on exploration of said data.\n",
    "\n",
    "1. Top Performers:\n",
    "\n",
    "2. Trends by Category\n",
    "\n",
    "3. Geographical Insights\n",
    "\n",
    "4. Comparison of Brands\n",
    "\n",
    "5. Language Trends\n",
    "\n",
    "6. Category vs. Subscriber Count\n",
    "\n",
    "7. Segmentation\n"
   ]
  },
  {
   "cell_type": "markdown",
   "id": "dbaf7732",
   "metadata": {
    "papermill": {
     "duration": 0.007406,
     "end_time": "2024-12-17T15:12:18.700748",
     "exception": false,
     "start_time": "2024-12-17T15:12:18.693342",
     "status": "completed"
    },
    "tags": []
   },
   "source": [
    "#Take into account\n",
    "- Some of the variables are repeated (Eg. United Stated / Ukraine, how to deal with these?) "
   ]
  },
  {
   "cell_type": "code",
   "execution_count": 1,
   "id": "afdb7731",
   "metadata": {
    "_cell_guid": "b1076dfc-b9ad-4769-8c92-a6c4dae69d19",
    "_uuid": "8f2839f25d086af736a60e9eeb907d3b93b6e0e5",
    "execution": {
     "iopub.execute_input": "2024-12-17T15:12:18.715268Z",
     "iopub.status.busy": "2024-12-17T15:12:18.714772Z",
     "iopub.status.idle": "2024-12-17T15:12:18.738413Z",
     "shell.execute_reply": "2024-12-17T15:12:18.737143Z"
    },
    "papermill": {
     "duration": 0.034184,
     "end_time": "2024-12-17T15:12:18.741106",
     "exception": false,
     "start_time": "2024-12-17T15:12:18.706922",
     "status": "completed"
    },
    "tags": []
   },
   "outputs": [
    {
     "name": "stdout",
     "output_type": "stream",
     "text": [
      "/kaggle/input/youtube-subscribers-data-2024/youtube_subscribers_data.csv\n"
     ]
    }
   ],
   "source": [
    "#database\n",
    "import os\n",
    "for dirname, _, filenames in os.walk('/kaggle/input'):\n",
    "    for filename in filenames:\n",
    "        print(os.path.join(dirname, filename))"
   ]
  },
  {
   "cell_type": "code",
   "execution_count": 2,
   "id": "c9b1fd1f",
   "metadata": {
    "execution": {
     "iopub.execute_input": "2024-12-17T15:12:18.755603Z",
     "iopub.status.busy": "2024-12-17T15:12:18.755091Z",
     "iopub.status.idle": "2024-12-17T15:12:21.806731Z",
     "shell.execute_reply": "2024-12-17T15:12:21.805370Z"
    },
    "papermill": {
     "duration": 3.062642,
     "end_time": "2024-12-17T15:12:21.809845",
     "exception": false,
     "start_time": "2024-12-17T15:12:18.747203",
     "status": "completed"
    },
    "tags": []
   },
   "outputs": [],
   "source": [
    "#libraries\n",
    "import numpy as np\n",
    "import pandas as pd\n",
    "import seaborn as sns\n",
    "import matplotlib.pyplot as plt"
   ]
  },
  {
   "cell_type": "code",
   "execution_count": 3,
   "id": "8c2a6b00",
   "metadata": {
    "execution": {
     "iopub.execute_input": "2024-12-17T15:12:21.825442Z",
     "iopub.status.busy": "2024-12-17T15:12:21.824311Z",
     "iopub.status.idle": "2024-12-17T15:12:21.867566Z",
     "shell.execute_reply": "2024-12-17T15:12:21.866225Z"
    },
    "papermill": {
     "duration": 0.054025,
     "end_time": "2024-12-17T15:12:21.870270",
     "exception": false,
     "start_time": "2024-12-17T15:12:21.816245",
     "status": "completed"
    },
    "tags": []
   },
   "outputs": [
    {
     "data": {
      "text/html": [
       "<div>\n",
       "<style scoped>\n",
       "    .dataframe tbody tr th:only-of-type {\n",
       "        vertical-align: middle;\n",
       "    }\n",
       "\n",
       "    .dataframe tbody tr th {\n",
       "        vertical-align: top;\n",
       "    }\n",
       "\n",
       "    .dataframe thead th {\n",
       "        text-align: right;\n",
       "    }\n",
       "</style>\n",
       "<table border=\"1\" class=\"dataframe\">\n",
       "  <thead>\n",
       "    <tr style=\"text-align: right;\">\n",
       "      <th></th>\n",
       "      <th>Name</th>\n",
       "      <th>Brand channel</th>\n",
       "      <th>Subscribers (millions)</th>\n",
       "      <th>Primary language</th>\n",
       "      <th>Category</th>\n",
       "      <th>Country</th>\n",
       "    </tr>\n",
       "  </thead>\n",
       "  <tbody>\n",
       "    <tr>\n",
       "      <th>0</th>\n",
       "      <td>MrBeast</td>\n",
       "      <td>No</td>\n",
       "      <td>335.0</td>\n",
       "      <td>English</td>\n",
       "      <td>Entertainment</td>\n",
       "      <td>United States</td>\n",
       "    </tr>\n",
       "    <tr>\n",
       "      <th>1</th>\n",
       "      <td>T-Series</td>\n",
       "      <td>Yes</td>\n",
       "      <td>280.0</td>\n",
       "      <td>Hindi</td>\n",
       "      <td>Music</td>\n",
       "      <td>India</td>\n",
       "    </tr>\n",
       "    <tr>\n",
       "      <th>2</th>\n",
       "      <td>Cocomelon - Nursery Rhymes</td>\n",
       "      <td>Yes</td>\n",
       "      <td>186.0</td>\n",
       "      <td>English</td>\n",
       "      <td>Education</td>\n",
       "      <td>United States</td>\n",
       "    </tr>\n",
       "    <tr>\n",
       "      <th>3</th>\n",
       "      <td>SET India</td>\n",
       "      <td>Yes</td>\n",
       "      <td>180.0</td>\n",
       "      <td>Hindi</td>\n",
       "      <td>Entertainment</td>\n",
       "      <td>India</td>\n",
       "    </tr>\n",
       "    <tr>\n",
       "      <th>4</th>\n",
       "      <td>Vlad and Niki</td>\n",
       "      <td>No</td>\n",
       "      <td>129.0</td>\n",
       "      <td>English</td>\n",
       "      <td>Entertainment</td>\n",
       "      <td>Russia</td>\n",
       "    </tr>\n",
       "  </tbody>\n",
       "</table>\n",
       "</div>"
      ],
      "text/plain": [
       "                         Name Brand channel  Subscribers (millions)  \\\n",
       "0                     MrBeast            No                   335.0   \n",
       "1                    T-Series           Yes                   280.0   \n",
       "2  Cocomelon - Nursery Rhymes           Yes                   186.0   \n",
       "3                   SET India           Yes                   180.0   \n",
       "4               Vlad and Niki            No                   129.0   \n",
       "\n",
       "  Primary language       Category        Country  \n",
       "0          English  Entertainment  United States  \n",
       "1            Hindi          Music          India  \n",
       "2          English      Education  United States  \n",
       "3            Hindi  Entertainment          India  \n",
       "4          English  Entertainment         Russia  "
      ]
     },
     "execution_count": 3,
     "metadata": {},
     "output_type": "execute_result"
    }
   ],
   "source": [
    "db = pd.read_csv(\"/kaggle/input/youtube-subscribers-data-2024/youtube_subscribers_data.csv\")\n",
    "db.head()"
   ]
  },
  {
   "cell_type": "code",
   "execution_count": 4,
   "id": "397b9456",
   "metadata": {
    "execution": {
     "iopub.execute_input": "2024-12-17T15:12:21.886417Z",
     "iopub.status.busy": "2024-12-17T15:12:21.885953Z",
     "iopub.status.idle": "2024-12-17T15:12:21.902093Z",
     "shell.execute_reply": "2024-12-17T15:12:21.900657Z"
    },
    "papermill": {
     "duration": 0.027443,
     "end_time": "2024-12-17T15:12:21.904438",
     "exception": false,
     "start_time": "2024-12-17T15:12:21.876995",
     "status": "completed"
    },
    "tags": []
   },
   "outputs": [
    {
     "data": {
      "text/html": [
       "<div>\n",
       "<style scoped>\n",
       "    .dataframe tbody tr th:only-of-type {\n",
       "        vertical-align: middle;\n",
       "    }\n",
       "\n",
       "    .dataframe tbody tr th {\n",
       "        vertical-align: top;\n",
       "    }\n",
       "\n",
       "    .dataframe thead th {\n",
       "        text-align: right;\n",
       "    }\n",
       "</style>\n",
       "<table border=\"1\" class=\"dataframe\">\n",
       "  <thead>\n",
       "    <tr style=\"text-align: right;\">\n",
       "      <th></th>\n",
       "      <th>Name</th>\n",
       "      <th>Brand channel</th>\n",
       "      <th>Subscribers (millions)</th>\n",
       "      <th>Primary language</th>\n",
       "      <th>Category</th>\n",
       "      <th>Country</th>\n",
       "    </tr>\n",
       "  </thead>\n",
       "  <tbody>\n",
       "    <tr>\n",
       "      <th>0</th>\n",
       "      <td>MrBeast</td>\n",
       "      <td>No</td>\n",
       "      <td>335.0</td>\n",
       "      <td>English</td>\n",
       "      <td>Entertainment</td>\n",
       "      <td>United States</td>\n",
       "    </tr>\n",
       "    <tr>\n",
       "      <th>1</th>\n",
       "      <td>T-Series</td>\n",
       "      <td>Yes</td>\n",
       "      <td>280.0</td>\n",
       "      <td>Hindi</td>\n",
       "      <td>Music</td>\n",
       "      <td>India</td>\n",
       "    </tr>\n",
       "    <tr>\n",
       "      <th>2</th>\n",
       "      <td>Cocomelon - Nursery Rhymes</td>\n",
       "      <td>Yes</td>\n",
       "      <td>186.0</td>\n",
       "      <td>English</td>\n",
       "      <td>Education</td>\n",
       "      <td>United States</td>\n",
       "    </tr>\n",
       "    <tr>\n",
       "      <th>3</th>\n",
       "      <td>SET India</td>\n",
       "      <td>Yes</td>\n",
       "      <td>180.0</td>\n",
       "      <td>Hindi</td>\n",
       "      <td>Entertainment</td>\n",
       "      <td>India</td>\n",
       "    </tr>\n",
       "    <tr>\n",
       "      <th>4</th>\n",
       "      <td>Vlad and Niki</td>\n",
       "      <td>No</td>\n",
       "      <td>129.0</td>\n",
       "      <td>English</td>\n",
       "      <td>Entertainment</td>\n",
       "      <td>Russia</td>\n",
       "    </tr>\n",
       "    <tr>\n",
       "      <th>5</th>\n",
       "      <td>Kids Diana Show</td>\n",
       "      <td>Yes</td>\n",
       "      <td>128.0</td>\n",
       "      <td>English</td>\n",
       "      <td>Entertainment</td>\n",
       "      <td>United States  Ukraine</td>\n",
       "    </tr>\n",
       "    <tr>\n",
       "      <th>6</th>\n",
       "      <td>Like Nastya</td>\n",
       "      <td>No</td>\n",
       "      <td>123.0</td>\n",
       "      <td>English</td>\n",
       "      <td>Entertainment</td>\n",
       "      <td>United States  Ukraine</td>\n",
       "    </tr>\n",
       "    <tr>\n",
       "      <th>7</th>\n",
       "      <td>Zee Music</td>\n",
       "      <td>Yes</td>\n",
       "      <td>112.0</td>\n",
       "      <td>Hindi</td>\n",
       "      <td>Music</td>\n",
       "      <td>India</td>\n",
       "    </tr>\n",
       "    <tr>\n",
       "      <th>8</th>\n",
       "      <td>PewDiePie</td>\n",
       "      <td>No</td>\n",
       "      <td>110.0</td>\n",
       "      <td>English</td>\n",
       "      <td>Entertainment</td>\n",
       "      <td>Sweden  Japan</td>\n",
       "    </tr>\n",
       "    <tr>\n",
       "      <th>9</th>\n",
       "      <td>WWE</td>\n",
       "      <td>Yes</td>\n",
       "      <td>105.0</td>\n",
       "      <td>English</td>\n",
       "      <td>Sports</td>\n",
       "      <td>United States</td>\n",
       "    </tr>\n",
       "  </tbody>\n",
       "</table>\n",
       "</div>"
      ],
      "text/plain": [
       "                         Name Brand channel  Subscribers (millions)  \\\n",
       "0                     MrBeast            No                   335.0   \n",
       "1                    T-Series           Yes                   280.0   \n",
       "2  Cocomelon - Nursery Rhymes           Yes                   186.0   \n",
       "3                   SET India           Yes                   180.0   \n",
       "4               Vlad and Niki            No                   129.0   \n",
       "5             Kids Diana Show           Yes                   128.0   \n",
       "6                 Like Nastya            No                   123.0   \n",
       "7                   Zee Music           Yes                   112.0   \n",
       "8                   PewDiePie            No                   110.0   \n",
       "9                         WWE           Yes                   105.0   \n",
       "\n",
       "  Primary language       Category                 Country  \n",
       "0          English  Entertainment           United States  \n",
       "1            Hindi          Music                   India  \n",
       "2          English      Education           United States  \n",
       "3            Hindi  Entertainment                   India  \n",
       "4          English  Entertainment                  Russia  \n",
       "5          English  Entertainment  United States  Ukraine  \n",
       "6          English  Entertainment  United States  Ukraine  \n",
       "7            Hindi          Music                   India  \n",
       "8          English  Entertainment           Sweden  Japan  \n",
       "9          English         Sports           United States  "
      ]
     },
     "execution_count": 4,
     "metadata": {},
     "output_type": "execute_result"
    }
   ],
   "source": [
    "db.head(10)"
   ]
  },
  {
   "cell_type": "markdown",
   "id": "f9925d30",
   "metadata": {
    "papermill": {
     "duration": 0.006397,
     "end_time": "2024-12-17T15:12:21.917642",
     "exception": false,
     "start_time": "2024-12-17T15:12:21.911245",
     "status": "completed"
    },
    "tags": []
   },
   "source": [
    "## 1. Top Performers\n",
    "Which channels have the most subscribers in 2024?"
   ]
  },
  {
   "cell_type": "code",
   "execution_count": 5,
   "id": "850dac44",
   "metadata": {
    "execution": {
     "iopub.execute_input": "2024-12-17T15:12:21.933422Z",
     "iopub.status.busy": "2024-12-17T15:12:21.932319Z",
     "iopub.status.idle": "2024-12-17T15:12:21.948890Z",
     "shell.execute_reply": "2024-12-17T15:12:21.947635Z"
    },
    "papermill": {
     "duration": 0.027085,
     "end_time": "2024-12-17T15:12:21.951163",
     "exception": false,
     "start_time": "2024-12-17T15:12:21.924078",
     "status": "completed"
    },
    "tags": []
   },
   "outputs": [
    {
     "name": "stdout",
     "output_type": "stream",
     "text": [
      "                         Name Brand channel  Subscribers (millions)  \\\n",
      "0                     MrBeast            No                   335.0   \n",
      "1                    T-Series           Yes                   280.0   \n",
      "2  Cocomelon - Nursery Rhymes           Yes                   186.0   \n",
      "3                   SET India           Yes                   180.0   \n",
      "4               Vlad and Niki            No                   129.0   \n",
      "\n",
      "  Primary language       Category        Country  \n",
      "0          English  Entertainment  United States  \n",
      "1            Hindi          Music          India  \n",
      "2          English      Education  United States  \n",
      "3            Hindi  Entertainment          India  \n",
      "4          English  Entertainment         Russia  \n"
     ]
    }
   ],
   "source": [
    "db = db.sort_values(by=\"Subscribers (millions)\",ascending=False)\n",
    "print(db.head(5))"
   ]
  },
  {
   "cell_type": "markdown",
   "id": "b802c228",
   "metadata": {
    "papermill": {
     "duration": 0.006687,
     "end_time": "2024-12-17T15:12:21.965062",
     "exception": false,
     "start_time": "2024-12-17T15:12:21.958375",
     "status": "completed"
    },
    "tags": []
   },
   "source": [
    "What is the average subscriber count across all channels?"
   ]
  },
  {
   "cell_type": "code",
   "execution_count": 6,
   "id": "8011b922",
   "metadata": {
    "execution": {
     "iopub.execute_input": "2024-12-17T15:12:21.981444Z",
     "iopub.status.busy": "2024-12-17T15:12:21.980420Z",
     "iopub.status.idle": "2024-12-17T15:12:21.989471Z",
     "shell.execute_reply": "2024-12-17T15:12:21.988179Z"
    },
    "papermill": {
     "duration": 0.019977,
     "end_time": "2024-12-17T15:12:21.991892",
     "exception": false,
     "start_time": "2024-12-17T15:12:21.971915",
     "status": "completed"
    },
    "tags": []
   },
   "outputs": [
    {
     "name": "stdout",
     "output_type": "stream",
     "text": [
      "90.962\n"
     ]
    }
   ],
   "source": [
    "print(db[\"Subscribers (millions)\"].mean())"
   ]
  },
  {
   "cell_type": "markdown",
   "id": "453e445b",
   "metadata": {
    "papermill": {
     "duration": 0.006543,
     "end_time": "2024-12-17T15:12:22.005382",
     "exception": false,
     "start_time": "2024-12-17T15:12:21.998839",
     "status": "completed"
    },
    "tags": []
   },
   "source": [
    "## 2. Trends by Category\n",
    "What are the most popular content categories based on subscriber counts?\n",
    "Is there a significant difference in subscriber counts between categories?"
   ]
  },
  {
   "cell_type": "code",
   "execution_count": 7,
   "id": "89170a62",
   "metadata": {
    "execution": {
     "iopub.execute_input": "2024-12-17T15:12:22.022174Z",
     "iopub.status.busy": "2024-12-17T15:12:22.020647Z",
     "iopub.status.idle": "2024-12-17T15:12:22.042067Z",
     "shell.execute_reply": "2024-12-17T15:12:22.040889Z"
    },
    "papermill": {
     "duration": 0.032301,
     "end_time": "2024-12-17T15:12:22.044609",
     "exception": false,
     "start_time": "2024-12-17T15:12:22.012308",
     "status": "completed"
    },
    "tags": []
   },
   "outputs": [
    {
     "name": "stdout",
     "output_type": "stream",
     "text": [
      "                         Subscribers (millions)\n",
      "Category                                       \n",
      "Education                            106.500000\n",
      "Sports                               105.000000\n",
      "Entertainment                        101.260000\n",
      "Music                                 83.770588\n",
      "Film                                  81.900000\n",
      "How-to                                81.100000\n",
      "Entertainment/Sports                  71.300000\n",
      "News                                  68.600000\n",
      "Lifestyle Vlogs                       62.200000\n",
      "Comedy                                60.600000\n",
      "Education/Entertainment               60.200000\n"
     ]
    }
   ],
   "source": [
    "categ_anal = db.groupby(\"Category\").agg({\n",
    "    'Subscribers (millions)': 'mean'})\n",
    "print(categ_anal.sort_values(\"Subscribers (millions)\",ascending= False))\n",
    "#print(categ_anal)"
   ]
  },
  {
   "cell_type": "markdown",
   "id": "2bd0251c",
   "metadata": {
    "papermill": {
     "duration": 0.006441,
     "end_time": "2024-12-17T15:12:22.057858",
     "exception": false,
     "start_time": "2024-12-17T15:12:22.051417",
     "status": "completed"
    },
    "tags": []
   },
   "source": [
    "## 3.Geographical Insights\n",
    "Which countries have the highest representation in terms of total subscribers?"
   ]
  },
  {
   "cell_type": "code",
   "execution_count": 8,
   "id": "b35c596c",
   "metadata": {
    "execution": {
     "iopub.execute_input": "2024-12-17T15:12:22.073847Z",
     "iopub.status.busy": "2024-12-17T15:12:22.072712Z",
     "iopub.status.idle": "2024-12-17T15:12:22.091987Z",
     "shell.execute_reply": "2024-12-17T15:12:22.090809Z"
    },
    "papermill": {
     "duration": 0.030178,
     "end_time": "2024-12-17T15:12:22.094661",
     "exception": false,
     "start_time": "2024-12-17T15:12:22.064483",
     "status": "completed"
    },
    "tags": []
   },
   "outputs": [
    {
     "data": {
      "text/html": [
       "<div>\n",
       "<style scoped>\n",
       "    .dataframe tbody tr th:only-of-type {\n",
       "        vertical-align: middle;\n",
       "    }\n",
       "\n",
       "    .dataframe tbody tr th {\n",
       "        vertical-align: top;\n",
       "    }\n",
       "\n",
       "    .dataframe thead th {\n",
       "        text-align: right;\n",
       "    }\n",
       "</style>\n",
       "<table border=\"1\" class=\"dataframe\">\n",
       "  <thead>\n",
       "    <tr style=\"text-align: right;\">\n",
       "      <th></th>\n",
       "      <th>Subscribers (millions)</th>\n",
       "    </tr>\n",
       "    <tr>\n",
       "      <th>Country</th>\n",
       "      <th></th>\n",
       "    </tr>\n",
       "  </thead>\n",
       "  <tbody>\n",
       "    <tr>\n",
       "      <th>India</th>\n",
       "      <td>1628.3</td>\n",
       "    </tr>\n",
       "    <tr>\n",
       "      <th>United States</th>\n",
       "      <td>1285.4</td>\n",
       "    </tr>\n",
       "    <tr>\n",
       "      <th>South Korea</th>\n",
       "      <td>402.0</td>\n",
       "    </tr>\n",
       "    <tr>\n",
       "      <th>United States  Ukraine</th>\n",
       "      <td>251.0</td>\n",
       "    </tr>\n",
       "    <tr>\n",
       "      <th>Russia</th>\n",
       "      <td>129.0</td>\n",
       "    </tr>\n",
       "    <tr>\n",
       "      <th>Pakistan</th>\n",
       "      <td>122.4</td>\n",
       "    </tr>\n",
       "    <tr>\n",
       "      <th>Sweden  Japan</th>\n",
       "      <td>110.0</td>\n",
       "    </tr>\n",
       "    <tr>\n",
       "      <th>Cyprus[a]</th>\n",
       "      <td>81.1</td>\n",
       "    </tr>\n",
       "    <tr>\n",
       "      <th>Canada</th>\n",
       "      <td>74.4</td>\n",
       "    </tr>\n",
       "    <tr>\n",
       "      <th>Portugal</th>\n",
       "      <td>71.3</td>\n",
       "    </tr>\n",
       "    <tr>\n",
       "      <th>Belarus</th>\n",
       "      <td>71.1</td>\n",
       "    </tr>\n",
       "    <tr>\n",
       "      <th>United Arab Emirates</th>\n",
       "      <td>68.9</td>\n",
       "    </tr>\n",
       "    <tr>\n",
       "      <th>Brazil</th>\n",
       "      <td>67.5</td>\n",
       "    </tr>\n",
       "    <tr>\n",
       "      <th>Argentina</th>\n",
       "      <td>67.0</td>\n",
       "    </tr>\n",
       "    <tr>\n",
       "      <th>Mexico</th>\n",
       "      <td>59.4</td>\n",
       "    </tr>\n",
       "    <tr>\n",
       "      <th>Romania</th>\n",
       "      <td>59.3</td>\n",
       "    </tr>\n",
       "  </tbody>\n",
       "</table>\n",
       "</div>"
      ],
      "text/plain": [
       "                        Subscribers (millions)\n",
       "Country                                       \n",
       "India                                   1628.3\n",
       "United States                           1285.4\n",
       "South Korea                              402.0\n",
       "United States  Ukraine                   251.0\n",
       "Russia                                   129.0\n",
       "Pakistan                                 122.4\n",
       "Sweden  Japan                            110.0\n",
       "Cyprus[a]                                 81.1\n",
       "Canada                                    74.4\n",
       "Portugal                                  71.3\n",
       "Belarus                                   71.1\n",
       "United Arab Emirates                      68.9\n",
       "Brazil                                    67.5\n",
       "Argentina                                 67.0\n",
       "Mexico                                    59.4\n",
       "Romania                                   59.3"
      ]
     },
     "execution_count": 8,
     "metadata": {},
     "output_type": "execute_result"
    }
   ],
   "source": [
    "geo_db = db.groupby(\"Country\").agg({\n",
    "    \"Subscribers (millions)\":\"sum\"})\n",
    "geo_db = geo_db.sort_values(by=\"Subscribers (millions)\",ascending=False)\n",
    "geo_db"
   ]
  },
  {
   "cell_type": "markdown",
   "id": "8ca2147a",
   "metadata": {
    "papermill": {
     "duration": 0.006656,
     "end_time": "2024-12-17T15:12:22.108444",
     "exception": false,
     "start_time": "2024-12-17T15:12:22.101788",
     "status": "completed"
    },
    "tags": []
   },
   "source": [
    "Are there regional trends in terms of popular categories or primary languages?"
   ]
  },
  {
   "cell_type": "code",
   "execution_count": 9,
   "id": "3a40b1d7",
   "metadata": {
    "execution": {
     "iopub.execute_input": "2024-12-17T15:12:22.124949Z",
     "iopub.status.busy": "2024-12-17T15:12:22.124414Z",
     "iopub.status.idle": "2024-12-17T15:12:22.940703Z",
     "shell.execute_reply": "2024-12-17T15:12:22.939418Z"
    },
    "papermill": {
     "duration": 0.827843,
     "end_time": "2024-12-17T15:12:22.943301",
     "exception": false,
     "start_time": "2024-12-17T15:12:22.115458",
     "status": "completed"
    },
    "tags": []
   },
   "outputs": [
    {
     "data": {
      "image/png": "[encoded data removed]",
      "text/plain": [
       "<Figure size 640x480 with 1 Axes>"
      ]
     },
     "metadata": {},
     "output_type": "display_data"
    }
   ],
   "source": [
    "# Trends among countries\n",
    "db_pt = db.pivot_table(index='Country', columns='Category', values='Subscribers (millions)')\n",
    "# Plot stacked bar graph\n",
    "db_pt.plot(kind='bar', stacked=True)\n",
    "plt.title(\"Category Distribution by Region\")\n",
    "plt.ylabel(\"Count\")\n",
    "plt.xlabel(\"Region\")\n",
    "plt.legend(title=\"Category\")\n",
    "plt.show()"
   ]
  },
  {
   "cell_type": "markdown",
   "id": "fdbe9181",
   "metadata": {
    "papermill": {
     "duration": 0.007554,
     "end_time": "2024-12-17T15:12:22.958976",
     "exception": false,
     "start_time": "2024-12-17T15:12:22.951422",
     "status": "completed"
    },
    "tags": []
   },
   "source": [
    "## 4. Comparison of Brands\n",
    "Do branded channels have more subscribers on average than non-branded channels?"
   ]
  },
  {
   "cell_type": "code",
   "execution_count": 10,
   "id": "15b9f44d",
   "metadata": {
    "execution": {
     "iopub.execute_input": "2024-12-17T15:12:22.977101Z",
     "iopub.status.busy": "2024-12-17T15:12:22.976590Z",
     "iopub.status.idle": "2024-12-17T15:12:22.994223Z",
     "shell.execute_reply": "2024-12-17T15:12:22.992956Z"
    },
    "papermill": {
     "duration": 0.029419,
     "end_time": "2024-12-17T15:12:22.996497",
     "exception": false,
     "start_time": "2024-12-17T15:12:22.967078",
     "status": "completed"
    },
    "tags": []
   },
   "outputs": [
    {
     "data": {
      "text/html": [
       "<div>\n",
       "<style scoped>\n",
       "    .dataframe tbody tr th:only-of-type {\n",
       "        vertical-align: middle;\n",
       "    }\n",
       "\n",
       "    .dataframe tbody tr th {\n",
       "        vertical-align: top;\n",
       "    }\n",
       "\n",
       "    .dataframe thead tr th {\n",
       "        text-align: left;\n",
       "    }\n",
       "\n",
       "    .dataframe thead tr:last-of-type th {\n",
       "        text-align: right;\n",
       "    }\n",
       "</style>\n",
       "<table border=\"1\" class=\"dataframe\">\n",
       "  <thead>\n",
       "    <tr>\n",
       "      <th></th>\n",
       "      <th colspan=\"2\" halign=\"left\">Subscribers (millions)</th>\n",
       "    </tr>\n",
       "    <tr>\n",
       "      <th></th>\n",
       "      <th>mean</th>\n",
       "      <th>count</th>\n",
       "    </tr>\n",
       "    <tr>\n",
       "      <th>Brand channel</th>\n",
       "      <th></th>\n",
       "      <th></th>\n",
       "    </tr>\n",
       "  </thead>\n",
       "  <tbody>\n",
       "    <tr>\n",
       "      <th>No</th>\n",
       "      <td>89.995238</td>\n",
       "      <td>21</td>\n",
       "    </tr>\n",
       "    <tr>\n",
       "      <th>Yes</th>\n",
       "      <td>91.662069</td>\n",
       "      <td>29</td>\n",
       "    </tr>\n",
       "  </tbody>\n",
       "</table>\n",
       "</div>"
      ],
      "text/plain": [
       "              Subscribers (millions)      \n",
       "                                mean count\n",
       "Brand channel                             \n",
       "No                         89.995238    21\n",
       "Yes                        91.662069    29"
      ]
     },
     "execution_count": 10,
     "metadata": {},
     "output_type": "execute_result"
    }
   ],
   "source": [
    "branded_sub = db.groupby(\"Brand channel\").agg({\n",
    "    \"Subscribers (millions)\":(\"mean\",\"count\")\n",
    "})\n",
    "branded_sub"
   ]
  },
  {
   "cell_type": "markdown",
   "id": "af0ea8f5",
   "metadata": {
    "execution": {
     "iopub.execute_input": "2024-12-17T13:42:28.899547Z",
     "iopub.status.busy": "2024-12-17T13:42:28.899137Z",
     "iopub.status.idle": "2024-12-17T13:42:28.908777Z",
     "shell.execute_reply": "2024-12-17T13:42:28.907204Z",
     "shell.execute_reply.started": "2024-12-17T13:42:28.899513Z"
    },
    "papermill": {
     "duration": 0.008531,
     "end_time": "2024-12-17T15:12:23.013301",
     "exception": false,
     "start_time": "2024-12-17T15:12:23.004770",
     "status": "completed"
    },
    "tags": []
   },
   "source": [
    "Which brand channels dominate specific categories (e.g., entertainment, education)?"
   ]
  },
  {
   "cell_type": "code",
   "execution_count": 11,
   "id": "c827ce6c",
   "metadata": {
    "execution": {
     "iopub.execute_input": "2024-12-17T15:12:23.032591Z",
     "iopub.status.busy": "2024-12-17T15:12:23.032047Z",
     "iopub.status.idle": "2024-12-17T15:12:23.049173Z",
     "shell.execute_reply": "2024-12-17T15:12:23.047837Z"
    },
    "papermill": {
     "duration": 0.029954,
     "end_time": "2024-12-17T15:12:23.051897",
     "exception": false,
     "start_time": "2024-12-17T15:12:23.021943",
     "status": "completed"
    },
    "tags": []
   },
   "outputs": [
    {
     "name": "stdout",
     "output_type": "stream",
     "text": [
      "                   Category                                   Name  \\\n",
      "0                    Comedy                           Dude Perfect   \n",
      "1                 Education  ChuChu TV Nursery Rhymes & Kids Songs   \n",
      "2                 Education             Cocomelon - Nursery Rhymes   \n",
      "3                 Education                      Infobells - Hindi   \n",
      "4                 Education                               Pinkfong   \n",
      "5   Education/Entertainment                             Mark Rober   \n",
      "6             Entertainment                                     A4   \n",
      "7             Entertainment                         ARY Digital HD   \n",
      "8             Entertainment                       Alan Chikin Chow   \n",
      "9             Entertainment                    BillionSurpriseToys   \n",
      "10            Entertainment                              Colors TV   \n",
      "11            Entertainment                          Fede Vigevani   \n",
      "12            Entertainment                            HAR PAL GEO   \n",
      "13            Entertainment                        Kids Diana Show   \n",
      "14            Entertainment                            Like Nastya   \n",
      "15            Entertainment                                MrBeast   \n",
      "16            Entertainment                              PewDiePie   \n",
      "17            Entertainment                              SET India   \n",
      "18            Entertainment                               Sony SAB   \n",
      "19            Entertainment                           Stokes Twins   \n",
      "20            Entertainment                          Tips Official   \n",
      "21            Entertainment                        Toys and Colors   \n",
      "22            Entertainment                          Vlad and Niki   \n",
      "23            Entertainment             ZAMZAM ELECTRONICS TRADING   \n",
      "24            Entertainment                                 Zee TV   \n",
      "25            Entertainment                              김프로KIMPRO   \n",
      "26     Entertainment/Sports                         UR · Cristiano   \n",
      "27                     Film                              Goldmines   \n",
      "28                     Film                             Movieclips   \n",
      "29                   How-to                        5-Minute Crafts   \n",
      "30          Lifestyle Vlogs                    KL BRO Biju Rithvik   \n",
      "31                    Music                              BANGTANTV   \n",
      "32                    Music                              Blackpink   \n",
      "33                    Music                        Canal KondZilla   \n",
      "34                    Music                      El Reino Infantil   \n",
      "35                    Music                           Eminem Music   \n",
      "36                    Music                            Hybe Labels   \n",
      "37                    Music                          Justin Bieber   \n",
      "38                    Music                            LooLoo Kids   \n",
      "39                    Music                             Marshmello   \n",
      "40                    Music                   Shemaroo Filmi Gaane   \n",
      "41                    Music                       Sony Music India   \n",
      "42                    Music                               T-Series   \n",
      "43                    Music                  T-Series Bhakti Sagar   \n",
      "44                    Music                           Taylor Swift   \n",
      "45                    Music                             Wave Music   \n",
      "46                    Music                                    YRF   \n",
      "47                    Music                              Zee Music   \n",
      "48                     News                                Aaj Tak   \n",
      "49                   Sports                                    WWE   \n",
      "\n",
      "    Subscribers (millions)  \n",
      "0                     60.6  \n",
      "1                     94.2  \n",
      "2                    186.0  \n",
      "3                     66.6  \n",
      "4                     79.2  \n",
      "5                     60.2  \n",
      "6                     71.1  \n",
      "7                     59.7  \n",
      "8                     69.2  \n",
      "9                     57.6  \n",
      "10                    77.5  \n",
      "11                    59.4  \n",
      "12                    62.7  \n",
      "13                   128.0  \n",
      "14                   123.0  \n",
      "15                   335.0  \n",
      "16                   110.0  \n",
      "17                   180.0  \n",
      "18                    97.5  \n",
      "19                   100.0  \n",
      "20                    70.8  \n",
      "21                    67.9  \n",
      "22                   129.0  \n",
      "23                    68.9  \n",
      "24                    86.0  \n",
      "25                    71.9  \n",
      "26                    71.3  \n",
      "27                   101.0  \n",
      "28                    62.8  \n",
      "29                    81.1  \n",
      "30                    62.2  \n",
      "31                    79.4  \n",
      "32                    95.3  \n",
      "33                    67.5  \n",
      "34                    67.0  \n",
      "35                    63.2  \n",
      "36                    76.2  \n",
      "37                    74.4  \n",
      "38                    59.3  \n",
      "39                    57.5  \n",
      "40                    70.2  \n",
      "41                    62.8  \n",
      "42                   280.0  \n",
      "43                    72.5  \n",
      "44                    60.4  \n",
      "45                    63.6  \n",
      "46                    62.8  \n",
      "47                   112.0  \n",
      "48                    68.6  \n",
      "49                   105.0  \n"
     ]
    }
   ],
   "source": [
    "cat_group = db.groupby(['Category', 'Name'])['Subscribers (millions)'].sum().reset_index()\n",
    "\n",
    "'''# Find the brand channel with the highest views in each category\n",
    "dominant_brands = cat_group.loc[cat_group.groupby('Category')['Subscribers (millions)'].idxmax()]\n",
    "\n",
    "print(dominant_brands)'''\n",
    "print(cat_group)"
   ]
  },
  {
   "cell_type": "markdown",
   "id": "660d6916",
   "metadata": {
    "papermill": {
     "duration": 0.008422,
     "end_time": "2024-12-17T15:12:23.069388",
     "exception": false,
     "start_time": "2024-12-17T15:12:23.060966",
     "status": "completed"
    },
    "tags": []
   },
   "source": [
    "## 5. Language Trends\n",
    "Which primary languages dominate the YouTube space in 2024? How does subscriber count differ between English-speaking and non-English-speaking channels?"
   ]
  },
  {
   "cell_type": "code",
   "execution_count": 12,
   "id": "c665d86a",
   "metadata": {
    "execution": {
     "iopub.execute_input": "2024-12-17T15:12:23.089620Z",
     "iopub.status.busy": "2024-12-17T15:12:23.089109Z",
     "iopub.status.idle": "2024-12-17T15:12:23.440292Z",
     "shell.execute_reply": "2024-12-17T15:12:23.438988Z"
    },
    "papermill": {
     "duration": 0.364143,
     "end_time": "2024-12-17T15:12:23.442714",
     "exception": false,
     "start_time": "2024-12-17T15:12:23.078571",
     "status": "completed"
    },
    "tags": []
   },
   "outputs": [
    {
     "name": "stderr",
     "output_type": "stream",
     "text": [
      "/opt/conda/lib/python3.10/site-packages/seaborn/_oldcore.py:1119: FutureWarning: use_inf_as_na option is deprecated and will be removed in a future version. Convert inf values to NaN before operating instead.\n",
      "  with pd.option_context('mode.use_inf_as_na', True):\n",
      "/opt/conda/lib/python3.10/site-packages/seaborn/_oldcore.py:1119: FutureWarning: use_inf_as_na option is deprecated and will be removed in a future version. Convert inf values to NaN before operating instead.\n",
      "  with pd.option_context('mode.use_inf_as_na', True):\n"
     ]
    },
    {
     "data": {
      "image/png": "[encoded data removed]",
      "text/plain": [
       "<Figure size 640x480 with 1 Axes>"
      ]
     },
     "metadata": {},
     "output_type": "display_data"
    }
   ],
   "source": [
    "main_lan = db.groupby(\"Primary language\")[\"Subscribers (millions)\"].sum().sort_values(ascending=False)\n",
    "main_lan = main_lan.reset_index()\n",
    "main_lan = main_lan[:9]\n",
    "\n",
    "#graph\n",
    "sns.lineplot(data=main_lan, x=\"Primary language\", y=\"Subscribers (millions)\", marker='o')\n",
    "plt.title(\"Top 10 Main Languages\", fontsize=14)\n",
    "plt.xlabel(\"Primary Language\", fontsize=12)\n",
    "plt.ylabel(\"Subscribers (millions)\", fontsize=12)\n",
    "plt.xticks(rotation=45) \n",
    "plt.grid(True)\n",
    "plt.show()"
   ]
  },
  {
   "cell_type": "markdown",
   "id": "b2492005",
   "metadata": {
    "papermill": {
     "duration": 0.008893,
     "end_time": "2024-12-17T15:12:23.461256",
     "exception": false,
     "start_time": "2024-12-17T15:12:23.452363",
     "status": "completed"
    },
    "tags": []
   },
   "source": [
    "## 6. Category vs. Subscriber Count:\n",
    "\n",
    "Do certain categories (e.g., gaming, beauty, education) attract more subscribers than others?\n"
   ]
  },
  {
   "cell_type": "code",
   "execution_count": 13,
   "id": "5e3e001a",
   "metadata": {
    "execution": {
     "iopub.execute_input": "2024-12-17T15:12:23.484043Z",
     "iopub.status.busy": "2024-12-17T15:12:23.482644Z",
     "iopub.status.idle": "2024-12-17T15:12:23.886557Z",
     "shell.execute_reply": "2024-12-17T15:12:23.885071Z"
    },
    "papermill": {
     "duration": 0.419381,
     "end_time": "2024-12-17T15:12:23.890275",
     "exception": false,
     "start_time": "2024-12-17T15:12:23.470894",
     "status": "completed"
    },
    "tags": []
   },
   "outputs": [
    {
     "data": {
      "text/plain": [
       "(array([ 0,  1,  2,  3,  4,  5,  6,  7,  8,  9, 10]),\n",
       " [Text(0, 0, 'Entertainment'),\n",
       "  Text(1, 0, 'Music'),\n",
       "  Text(2, 0, 'Education'),\n",
       "  Text(3, 0, 'Film'),\n",
       "  Text(4, 0, 'Sports'),\n",
       "  Text(5, 0, 'How-to'),\n",
       "  Text(6, 0, 'Entertainment/Sports'),\n",
       "  Text(7, 0, 'News'),\n",
       "  Text(8, 0, 'Lifestyle Vlogs'),\n",
       "  Text(9, 0, 'Comedy'),\n",
       "  Text(10, 0, 'Education/Entertainment')])"
      ]
     },
     "execution_count": 13,
     "metadata": {},
     "output_type": "execute_result"
    },
    {
     "data": {
      "image/png": "[encoded data removed]",
      "text/plain": [
       "<Figure size 640x480 with 1 Axes>"
      ]
     },
     "metadata": {},
     "output_type": "display_data"
    }
   ],
   "source": [
    "cat_df = db.groupby(\"Category\")[\"Subscribers (millions)\"].sum().reset_index().sort_values(by=\"Subscribers (millions)\", ascending=False)\n",
    "sns.barplot(data=cat_df, x=\"Category\", y=\"Subscribers (millions)\")\n",
    "plt.title(\"Top Categories\", fontsize=14)\n",
    "plt.xlabel(\"Category\", fontsize=12)\n",
    "plt.ylabel(\"Subscribers (millions)\", fontsize=12)\n",
    "plt.xticks(rotation=90) "
   ]
  },
  {
   "cell_type": "code",
   "execution_count": 14,
   "id": "cb2b5c2a",
   "metadata": {
    "execution": {
     "iopub.execute_input": "2024-12-17T15:12:23.915674Z",
     "iopub.status.busy": "2024-12-17T15:12:23.915142Z",
     "iopub.status.idle": "2024-12-17T15:12:23.922653Z",
     "shell.execute_reply": "2024-12-17T15:12:23.921258Z"
    },
    "papermill": {
     "duration": 0.023511,
     "end_time": "2024-12-17T15:12:23.925035",
     "exception": false,
     "start_time": "2024-12-17T15:12:23.901524",
     "status": "completed"
    },
    "tags": []
   },
   "outputs": [
    {
     "name": "stdout",
     "output_type": "stream",
     "text": [
      "Object `creators` not found.\n"
     ]
    }
   ],
   "source": [
    "Are there categories where branded channels dominate over individual creators?"
   ]
  },
  {
   "cell_type": "code",
   "execution_count": 15,
   "id": "e29c29ef",
   "metadata": {
    "execution": {
     "iopub.execute_input": "2024-12-17T15:12:23.948761Z",
     "iopub.status.busy": "2024-12-17T15:12:23.948293Z",
     "iopub.status.idle": "2024-12-17T15:12:24.535168Z",
     "shell.execute_reply": "2024-12-17T15:12:24.533984Z"
    },
    "papermill": {
     "duration": 0.603017,
     "end_time": "2024-12-17T15:12:24.538483",
     "exception": false,
     "start_time": "2024-12-17T15:12:23.935466",
     "status": "completed"
    },
    "tags": []
   },
   "outputs": [
    {
     "data": {
      "text/plain": [
       "(array([ 0,  1,  2,  3,  4,  5,  6,  7,  8,  9, 10]),\n",
       " [Text(0, 0, 'Entertainment'),\n",
       "  Text(1, 0, 'Music'),\n",
       "  Text(2, 0, 'Education'),\n",
       "  Text(3, 0, 'Film'),\n",
       "  Text(4, 0, 'Sports'),\n",
       "  Text(5, 0, 'How-to'),\n",
       "  Text(6, 0, 'Entertainment/Sports'),\n",
       "  Text(7, 0, 'News'),\n",
       "  Text(8, 0, 'Lifestyle Vlogs'),\n",
       "  Text(9, 0, 'Comedy'),\n",
       "  Text(10, 0, 'Education/Entertainment')])"
      ]
     },
     "execution_count": 15,
     "metadata": {},
     "output_type": "execute_result"
    },
    {
     "data": {
      "image/png": "[encoded data removed]",
      "text/plain": [
       "<Figure size 640x480 with 1 Axes>"
      ]
     },
     "metadata": {},
     "output_type": "display_data"
    }
   ],
   "source": [
    "comp_brand = db.groupby([\"Category\",\"Brand channel\"])[\"Subscribers (millions)\"].sum().reset_index().sort_values(by=\"Subscribers (millions)\", ascending=False)\n",
    "\n",
    "sns.barplot(data=comp_brand, x=\"Category\", y=\"Subscribers (millions)\",hue='Brand channel')\n",
    "plt.title(\"Categories per type of channel\", fontsize=14)\n",
    "plt.xlabel(\"Category\", fontsize=12)\n",
    "plt.ylabel(\"Subscribers (millions)\", fontsize=12)\n",
    "plt.xticks(rotation=90) "
   ]
  },
  {
   "cell_type": "markdown",
   "id": "96559b3d",
   "metadata": {
    "papermill": {
     "duration": 0.010889,
     "end_time": "2024-12-17T15:12:24.560964",
     "exception": false,
     "start_time": "2024-12-17T15:12:24.550075",
     "status": "completed"
    },
    "tags": []
   },
   "source": [
    "## 7. Segmentation"
   ]
  },
  {
   "cell_type": "markdown",
   "id": "05cc817d",
   "metadata": {
    "papermill": {
     "duration": 0.010857,
     "end_time": "2024-12-17T15:12:24.583228",
     "exception": false,
     "start_time": "2024-12-17T15:12:24.572371",
     "status": "completed"
    },
    "tags": []
   },
   "source": [
    "Can we group channels into segments based on subscriber count, language, and category?\n"
   ]
  },
  {
   "cell_type": "code",
   "execution_count": 16,
   "id": "2e8c0004",
   "metadata": {
    "execution": {
     "iopub.execute_input": "2024-12-17T15:12:24.607896Z",
     "iopub.status.busy": "2024-12-17T15:12:24.607380Z",
     "iopub.status.idle": "2024-12-17T15:12:24.619949Z",
     "shell.execute_reply": "2024-12-17T15:12:24.618742Z"
    },
    "papermill": {
     "duration": 0.027858,
     "end_time": "2024-12-17T15:12:24.622287",
     "exception": false,
     "start_time": "2024-12-17T15:12:24.594429",
     "status": "completed"
    },
    "tags": []
   },
   "outputs": [],
   "source": [
    "# Select the relevant columns first\n",
    "data_encoded = db[[\"Name\", \"Subscribers (millions)\", \"Primary language\", \"Category\", \"Country\"]]\n",
    "\n",
    "# One-hot encode only the categorical columns and keep numeric columns intact\n",
    "data_encoded = pd.get_dummies(data_encoded, columns=['Primary language', 'Category', \"Country\"], drop_first=True)"
   ]
  },
  {
   "cell_type": "code",
   "execution_count": 17,
   "id": "9335ff50",
   "metadata": {
    "execution": {
     "iopub.execute_input": "2024-12-17T15:12:24.647581Z",
     "iopub.status.busy": "2024-12-17T15:12:24.647119Z",
     "iopub.status.idle": "2024-12-17T15:12:25.528021Z",
     "shell.execute_reply": "2024-12-17T15:12:25.523770Z"
    },
    "papermill": {
     "duration": 0.89824,
     "end_time": "2024-12-17T15:12:25.532429",
     "exception": false,
     "start_time": "2024-12-17T15:12:24.634189",
     "status": "completed"
    },
    "tags": []
   },
   "outputs": [
    {
     "name": "stdout",
     "output_type": "stream",
     "text": [
      "                                     Name  cluster\n",
      "0                                 MrBeast        0\n",
      "1                                T-Series        0\n",
      "2              Cocomelon - Nursery Rhymes        0\n",
      "3                               SET India        0\n",
      "4                           Vlad and Niki        2\n",
      "5                         Kids Diana Show        2\n",
      "6                             Like Nastya        2\n",
      "7                               Zee Music        1\n",
      "8                               PewDiePie        2\n",
      "9                                     WWE        2\n",
      "10                              Goldmines        1\n",
      "11                           Stokes Twins        2\n",
      "12                               Sony SAB        1\n",
      "13                              Blackpink        1\n",
      "14  ChuChu TV Nursery Rhymes & Kids Songs        1\n",
      "15                                 Zee TV        1\n",
      "16                        5-Minute Crafts        2\n",
      "17                              BANGTANTV        1\n",
      "18                               Pinkfong        2\n",
      "19                              Colors TV        1\n",
      "20                            Hybe Labels        1\n",
      "21                          Justin Bieber        2\n",
      "22                  T-Series Bhakti Sagar        1\n",
      "23                              김프로KIMPRO        2\n",
      "24                         UR · Cristiano        1\n",
      "25                                     A4        2\n",
      "26                          Tips Official        1\n",
      "27                   Shemaroo Filmi Gaane        1\n",
      "28                       Alan Chikin Chow        2\n",
      "29             ZAMZAM ELECTRONICS TRADING        2\n",
      "30                                Aaj Tak        1\n",
      "31                        Toys and Colors        2\n",
      "32                        Canal KondZilla        1\n",
      "33                      El Reino Infantil        1\n",
      "34                      Infobells - Hindi        1\n",
      "35                             Wave Music        1\n",
      "36                           Eminem Music        2\n",
      "39                       Sony Music India        1\n",
      "38                             Movieclips        2\n",
      "37                                    YRF        1\n",
      "40                            HAR PAL GEO        2\n",
      "41                    KL BRO Biju Rithvik        1\n",
      "42                           Dude Perfect        2\n",
      "43                           Taylor Swift        2\n",
      "44                             Mark Rober        2\n",
      "45                         ARY Digital HD        2\n",
      "46                          Fede Vigevani        2\n",
      "47                            LooLoo Kids        2\n",
      "48                    BillionSurpriseToys        2\n",
      "49                             Marshmello        2\n"
     ]
    },
    {
     "name": "stderr",
     "output_type": "stream",
     "text": [
      "/opt/conda/lib/python3.10/site-packages/sklearn/cluster/_kmeans.py:870: FutureWarning: The default value of `n_init` will change from 10 to 'auto' in 1.4. Set the value of `n_init` explicitly to suppress the warning\n",
      "  warnings.warn(\n"
     ]
    }
   ],
   "source": [
    "# Now, scale the 'Subscribers (millions)' column separately\n",
    "from sklearn.preprocessing import StandardScaler\n",
    "\n",
    "# Scale the 'Subscribers (millions)' column\n",
    "scaler = StandardScaler()\n",
    "data_encoded['Subscribers (millions)'] = scaler.fit_transform(data_encoded[['Subscribers (millions)']])\n",
    "\n",
    "# Apply KMeans clustering to the data\n",
    "from sklearn.cluster import KMeans\n",
    "\n",
    "kmeans = KMeans(n_clusters=3, random_state=42)  # Choose n_clusters based on your analysis\n",
    "data_encoded['cluster'] = kmeans.fit_predict(data_encoded.drop(columns=[\"Name\"]))  # Don't include 'Name' in clustering\n",
    "\n",
    "# Show the resulting segments\n",
    "print(data_encoded[['Name', 'cluster']])"
   ]
  },
  {
   "cell_type": "markdown",
   "id": "45d175de",
   "metadata": {
    "papermill": {
     "duration": 0.011214,
     "end_time": "2024-12-17T15:12:25.555765",
     "exception": false,
     "start_time": "2024-12-17T15:12:25.544551",
     "status": "completed"
    },
    "tags": []
   },
   "source": [
    "What insights can we gain from clusters of high-subscriber vs. low-subscriber channels?"
   ]
  }
 ],
 "metadata": {
  "kaggle": {
   "accelerator": "none",
   "dataSources": [
    {
     "datasetId": 6244142,
     "sourceId": 10119744,
     "sourceType": "datasetVersion"
    }
   ],
   "dockerImageVersionId": 30804,
   "isGpuEnabled": false,
   "isInternetEnabled": true,
   "language": "python",
   "sourceType": "notebook"
  },
  "kernelspec": {
   "display_name": "Python 3",
   "language": "python",
   "name": "python3"
  },
  "language_info": {
   "codemirror_mode": {
    "name": "ipython",
    "version": 3
   },
   "file_extension": ".py",
   "mimetype": "text/x-python",
   "name": "python",
   "nbconvert_exporter": "python",
   "pygments_lexer": "ipython3",
   "version": "3.10.14"
  },
  "papermill": {
   "default_parameters": {},
   "duration": 11.051524,
   "end_time": "2024-12-17T15:12:26.592397",
   "environment_variables": {},
   "exception": null,
   "input_path": "__notebook__.ipynb",
   "output_path": "__notebook__.ipynb",
   "parameters": {},
   "start_time": "2024-12-17T15:12:15.540873",
   "version": "2.6.0"
  }
 },
 "nbformat": 4,
 "nbformat_minor": 5
}
